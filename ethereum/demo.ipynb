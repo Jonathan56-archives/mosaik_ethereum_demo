{
 "cells": [
  {
   "cell_type": "code",
   "execution_count": 7,
   "metadata": {
    "collapsed": false
   },
   "outputs": [],
   "source": [
    "from web3 import Web3, HTTPProvider\n",
    "import json\n",
    "\n",
    "# Connect to the network\n",
    "web3 = Web3(HTTPProvider('http://localhost:8545'))\n",
    "\n",
    "# Get contract signature\n",
    "with open('build/contracts/Energy.json') as energy_file:    \n",
    "    energy_json = json.load(energy_file)\n",
    "energy_abi = energy_json['abi']\n",
    "network_id = energy_json['networks'].keys()[-1]\n",
    "energy_address = energy_json['networks'][network_id]['address']\n",
    "\n",
    "# List accounts and set default account\n",
    "account = web3.eth.accounts\n",
    "web3.eth.defaultAccount = account[0]"
   ]
  },
  {
   "cell_type": "code",
   "execution_count": 8,
   "metadata": {
    "collapsed": false
   },
   "outputs": [],
   "source": [
    "contract = web3.eth.contract(energy_abi, energy_address)\n",
    "contract_filter = contract.on('addedRessource', filter_params={'fromBlock': 'earliest'})"
   ]
  },
  {
   "cell_type": "code",
   "execution_count": 16,
   "metadata": {
    "collapsed": false,
    "scrolled": true
   },
   "outputs": [
    {
     "data": {
      "text/plain": [
       "AttributeDict({u'blockHash': u'0x1790819b2eb51d7be6fd0c73e17f0399d3b339bd0a6aff0f4d7a16294c4997c3',\n",
       " u'blockNumber': 24,\n",
       " u'contractAddress': None,\n",
       " u'cumulativeGasUsed': 29660,\n",
       " u'gasUsed': 29660,\n",
       " u'logs': [{u'address': u'0x125ebeb72c6b751375b22ae72bf0744d6ed3464f',\n",
       "   u'blockHash': u'0x1790819b2eb51d7be6fd0c73e17f0399d3b339bd0a6aff0f4d7a16294c4997c3',\n",
       "   u'blockNumber': 24,\n",
       "   u'data': u'0x000000000000000000000000593f5284093d3860c4746577cab3d8760787da2d0000000000000000000000000000000000000000000000000000000000002710',\n",
       "   u'logIndex': 0,\n",
       "   u'topics': [u'0xdf9be9a9dbc95e3a672c19c6a33c110eb3148aaf6a078fb58a7d929eadd04aa3'],\n",
       "   u'transactionHash': u'0x013ed06b204732d965c31a5ffd232aa74c568afdb7a89fc67b5d4f60f0761128',\n",
       "   u'transactionIndex': 0,\n",
       "   u'type': u'mined'}],\n",
       " u'transactionHash': u'0x013ed06b204732d965c31a5ffd232aa74c568afdb7a89fc67b5d4f60f0761128',\n",
       " u'transactionIndex': 0})"
      ]
     },
     "execution_count": 16,
     "metadata": {},
     "output_type": "execute_result"
    }
   ],
   "source": [
    "trans_hash = contract.transact({'to': energy_address, 'gas': 90000}).addConsumptionToken(account[0], 10000)\n",
    "web3.eth.getTransactionReceipt(trans_hash)"
   ]
  },
  {
   "cell_type": "code",
   "execution_count": 17,
   "metadata": {
    "collapsed": false
   },
   "outputs": [
    {
     "data": {
      "text/plain": [
       "10058"
      ]
     },
     "execution_count": 17,
     "metadata": {},
     "output_type": "execute_result"
    }
   ],
   "source": [
    "contract.call().consumptionTokenBalance(account[0])"
   ]
  },
  {
   "cell_type": "code",
   "execution_count": 20,
   "metadata": {
    "collapsed": false
   },
   "outputs": [
    {
     "data": {
      "text/plain": [
       "[{'address': u'0x125ebeb72c6b751375b22ae72bf0744d6ed3464f',\n",
       "  'args': {u'_target': u'0x593f5284093d3860c4746577cab3d8760787da2d',\n",
       "   u'_value': 58},\n",
       "  'blockHash': u'0x2764eb4c274b169b6b302717a03850a11c2cad184927edfa0f1c6daa0aa3bfb7',\n",
       "  'blockNumber': 22,\n",
       "  'event': u'addedRessource',\n",
       "  'logIndex': 0,\n",
       "  'transactionHash': u'0x2b0f365b31b66a9e641b354fc14fb2a5941b17ffb044433694959509aa549b55',\n",
       "  'transactionIndex': 0},\n",
       " {'address': u'0x125ebeb72c6b751375b22ae72bf0744d6ed3464f',\n",
       "  'args': {u'_target': u'0x98f49626f381799ada5b2c65ad1d842316a5da20',\n",
       "   u'_value': 102},\n",
       "  'blockHash': u'0xaca4e6536c6fb91ce29e407e126b88a69ccf83088bc49475c3e777b33cae0bb8',\n",
       "  'blockNumber': 23,\n",
       "  'event': u'addedRessource',\n",
       "  'logIndex': 0,\n",
       "  'transactionHash': u'0x4ba0e55c848e18eed924088c3d3245ae538c3dfa537e8b98ad8c381bb12d4bcf',\n",
       "  'transactionIndex': 0},\n",
       " {'address': u'0x125ebeb72c6b751375b22ae72bf0744d6ed3464f',\n",
       "  'args': {u'_target': u'0x593f5284093d3860c4746577cab3d8760787da2d',\n",
       "   u'_value': 10000},\n",
       "  'blockHash': u'0x1790819b2eb51d7be6fd0c73e17f0399d3b339bd0a6aff0f4d7a16294c4997c3',\n",
       "  'blockNumber': 24,\n",
       "  'event': u'addedRessource',\n",
       "  'logIndex': 0,\n",
       "  'transactionHash': u'0x013ed06b204732d965c31a5ffd232aa74c568afdb7a89fc67b5d4f60f0761128',\n",
       "  'transactionIndex': 0}]"
      ]
     },
     "execution_count": 20,
     "metadata": {},
     "output_type": "execute_result"
    }
   ],
   "source": [
    "contract_filter.get(only_changes=False)"
   ]
  }
 ],
 "metadata": {
  "anaconda-cloud": {},
  "kernelspec": {
   "display_name": "Python [Root]",
   "language": "python",
   "name": "Python [Root]"
  },
  "language_info": {
   "codemirror_mode": {
    "name": "ipython",
    "version": 2
   },
   "file_extension": ".py",
   "mimetype": "text/x-python",
   "name": "python",
   "nbconvert_exporter": "python",
   "pygments_lexer": "ipython2",
   "version": "2.7.12"
  }
 },
 "nbformat": 4,
 "nbformat_minor": 0
}
