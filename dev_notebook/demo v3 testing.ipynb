{
 "cells": [
  {
   "cell_type": "code",
   "execution_count": 44,
   "metadata": {
    "collapsed": false
   },
   "outputs": [],
   "source": [
    "import time\n",
    "from __future__ import division\n",
    "from web3 import Web3, HTTPProvider\n",
    "import json\n",
    "\n",
    "import pandas\n",
    "import numpy as np\n",
    "import matplotlib.pyplot as plt\n",
    "import seaborn\n",
    "seaborn.set_style(\"whitegrid\")\n",
    "seaborn.despine()\n",
    "%matplotlib inline\n",
    "%config InlineBackend.figure_formats = {'svg',}\n",
    "\n",
    "# Connect to the network\n",
    "web3 = Web3(HTTPProvider('http://localhost:8545'))\n",
    "\n",
    "# Get contract signature\n",
    "with open('../ethereum/build/contracts/Market.json') as energy_file:    \n",
    "    energy_json = json.load(energy_file)\n",
    "contract_abi = energy_json['abi']\n",
    "network_id = energy_json['networks'].keys()[-1]\n",
    "contract_address = energy_json['networks'][network_id]['address']\n",
    "\n",
    "# List accounts and set default account\n",
    "accounts = web3.eth.accounts\n",
    "web3.eth.defaultAccount = accounts[0]\n",
    "contract = web3.eth.contract(contract_abi, contract_address)\n",
    "energy_posted_event = contract.on('energy_posted_event', filter_params={'fromBlock': 'earliest'})\n",
    "market_cleared_event = contract.on('market_cleared_event', filter_params={'fromBlock': 'earliest'})\n",
    "bill_sent_event = contract.on('bill_sent_event', filter_params={'fromBlock': 'earliest'})"
   ]
  },
  {
   "cell_type": "code",
   "execution_count": 45,
   "metadata": {
    "collapsed": false
   },
   "outputs": [
    {
     "name": "stdout",
     "output_type": "stream",
     "text": [
      "Number of accounts 10\n",
      "Number of participants 10\n"
     ]
    }
   ],
   "source": [
    "print('Number of accounts ' + str(len(accounts)))\n",
    "\n",
    "# Add all participants\n",
    "for account in accounts:\n",
    "    trans_hash = contract.transact({'from': account, 'to': contract_address, 'gas': 900000}).add_participant()\n",
    "    \n",
    "# Check how many participants have been added\n",
    "print('Number of participants ' + str(contract.call().number_of_participant()))"
   ]
  },
  {
   "cell_type": "code",
   "execution_count": 46,
   "metadata": {
    "collapsed": false
   },
   "outputs": [
    {
     "name": "stdout",
     "output_type": "stream",
     "text": [
      "Total energy balance 1225 wh\n"
     ]
    },
    {
     "data": {
      "text/plain": [
       "u'0x9b6b8951c9b15a9166a10b45b24d5a1bf51820d1f79ad2ad616c02ea707b264b'"
      ]
     },
     "execution_count": 46,
     "metadata": {},
     "output_type": "execute_result"
    }
   ],
   "source": [
    "# Inputs\n",
    "energy_balances = [100, 500, 600, 200, 300, -100, -100, -200, -25, -50]\n",
    "print('Total energy balance ' + str(sum(energy_balances)) + ' wh')\n",
    "assert(len(accounts) == len(energy_balances))\n",
    "\n",
    "# Post consumption and production for each account\n",
    "for account, energy_balance in zip(accounts, energy_balances):\n",
    "    temp = {'from': account, 'to': contract_address, 'gas': 900000}\n",
    "    contract.transact(temp).post_energy_balance(int(energy_balance))\n",
    "\n",
    "# Clear the market\n",
    "contract.transact({'to': contract_address, 'gas': 900000}).clear_market()\n",
    "\n",
    "# Print results"
   ]
  },
  {
   "cell_type": "code",
   "execution_count": 48,
   "metadata": {
    "collapsed": false
   },
   "outputs": [
    {
     "data": {
      "text/plain": [
       "[{'address': u'0x8d56c2d21fce354dd2a13c0a4de8fd72c96b9bdd',\n",
       "  'args': {u'_buy': 50,\n",
       "   u'_gen': 115792089237316195423570985008687907853269984665640564039457584007913129638236L,\n",
       "   u'_prod': 115792089237316195423570985008687907853269984665640564039457584007913129639461L,\n",
       "   u'_sell': 50},\n",
       "  'blockHash': u'0x99179e21b2ab825b8d25b0401937703f833ff1ac1aef2472cdaa4af01320f427',\n",
       "  'blockNumber': 28,\n",
       "  'event': u'market_cleared_event',\n",
       "  'logIndex': 0,\n",
       "  'transactionHash': u'0x9b6b8951c9b15a9166a10b45b24d5a1bf51820d1f79ad2ad616c02ea707b264b',\n",
       "  'transactionIndex': 0}]"
      ]
     },
     "execution_count": 48,
     "metadata": {},
     "output_type": "execute_result"
    }
   ],
   "source": [
    "market_cleared_event.get(only_changes=False)"
   ]
  },
  {
   "cell_type": "code",
   "execution_count": 49,
   "metadata": {
    "collapsed": false
   },
   "outputs": [
    {
     "data": {
      "text/plain": [
       "[{'address': u'0x8d56c2d21fce354dd2a13c0a4de8fd72c96b9bdd',\n",
       "  'args': {u'_target': u'0x031667db452fc1a3decf0d0a45d1e4eeb572d47c',\n",
       "   u'_value': 100},\n",
       "  'blockHash': u'0xabea528b469ff8fedd5064e811fce29655998b4364ca0c4a55a41d8ae2fb4fe6',\n",
       "  'blockNumber': 18,\n",
       "  'event': u'energy_posted_event',\n",
       "  'logIndex': 0,\n",
       "  'transactionHash': u'0x08c0917a41a116307355b1ba8dbc305789c68578c278c89b92f7164be1e08466',\n",
       "  'transactionIndex': 0},\n",
       " {'address': u'0x8d56c2d21fce354dd2a13c0a4de8fd72c96b9bdd',\n",
       "  'args': {u'_target': u'0x584793145dc1e5daf0f587cbf436878587c8734c',\n",
       "   u'_value': 500},\n",
       "  'blockHash': u'0xdd687daece1ab28a90e70916adc9b39afca2ec5386a71636463a6c07aebd2c14',\n",
       "  'blockNumber': 19,\n",
       "  'event': u'energy_posted_event',\n",
       "  'logIndex': 0,\n",
       "  'transactionHash': u'0x3cf8b49abbbbfa2f2a28390242ee48885f655d6b78080e1a2f1da878b248bc60',\n",
       "  'transactionIndex': 0},\n",
       " {'address': u'0x8d56c2d21fce354dd2a13c0a4de8fd72c96b9bdd',\n",
       "  'args': {u'_target': u'0x6d32c15322b56a4fae1e526aae0c8ac25fa2552d',\n",
       "   u'_value': 600},\n",
       "  'blockHash': u'0x2932b1355818b85c42be57e03ca784aab1ea7c14e2c60e7ba4c6074cd23d078b',\n",
       "  'blockNumber': 20,\n",
       "  'event': u'energy_posted_event',\n",
       "  'logIndex': 0,\n",
       "  'transactionHash': u'0x91dab97b54e521d156d471ab669c4b13596b33aaf889902ec8a57d7a99bf5cd9',\n",
       "  'transactionIndex': 0},\n",
       " {'address': u'0x8d56c2d21fce354dd2a13c0a4de8fd72c96b9bdd',\n",
       "  'args': {u'_target': u'0x16d91d01bae66adda356187d8de25a35325ff312',\n",
       "   u'_value': 200},\n",
       "  'blockHash': u'0x7a1f2ddf0dc3fa297a1499d5f9b43d36770d22dba8e666993d1ade0a588e56d5',\n",
       "  'blockNumber': 21,\n",
       "  'event': u'energy_posted_event',\n",
       "  'logIndex': 0,\n",
       "  'transactionHash': u'0x643f7103e73a377fcf5a32fa71c14b51379f88d4dd19154a2fc122e335ba64ba',\n",
       "  'transactionIndex': 0},\n",
       " {'address': u'0x8d56c2d21fce354dd2a13c0a4de8fd72c96b9bdd',\n",
       "  'args': {u'_target': u'0x80d625119173af05841ee611a4b9f90c1b436eff',\n",
       "   u'_value': 300},\n",
       "  'blockHash': u'0xd739da9ba30e756637d616c9b43d3ce894fa3921e4d07c2bfbfc4909b8677c48',\n",
       "  'blockNumber': 22,\n",
       "  'event': u'energy_posted_event',\n",
       "  'logIndex': 0,\n",
       "  'transactionHash': u'0x7c73f315c39eab2437cd60534a9d913634fded486bd7cb6d0a614ef119d3ac34',\n",
       "  'transactionIndex': 0},\n",
       " {'address': u'0x8d56c2d21fce354dd2a13c0a4de8fd72c96b9bdd',\n",
       "  'args': {u'_target': u'0x9f3d6514b4840ae3e9fa7cbfa1fc38fa2482b225',\n",
       "   u'_value': -100L},\n",
       "  'blockHash': u'0xc2769c8c6075607f49fc8e15a69bafc2275f0f17cd24eeb6eecb53505eedaccb',\n",
       "  'blockNumber': 23,\n",
       "  'event': u'energy_posted_event',\n",
       "  'logIndex': 0,\n",
       "  'transactionHash': u'0x29222d1daf26c684c24b5c5134f63464401bc50e4521df77e7da786b8b5e0e54',\n",
       "  'transactionIndex': 0},\n",
       " {'address': u'0x8d56c2d21fce354dd2a13c0a4de8fd72c96b9bdd',\n",
       "  'args': {u'_target': u'0x28c6880fde1daff3b3000337ded17b5c1b78d048',\n",
       "   u'_value': -100L},\n",
       "  'blockHash': u'0xd723a3fee05e55b1bdb1ef70a2ad871fcfd59622d3c3f0042b810c88395b41de',\n",
       "  'blockNumber': 24,\n",
       "  'event': u'energy_posted_event',\n",
       "  'logIndex': 0,\n",
       "  'transactionHash': u'0x29222d1daf26c684c24b5c5134f63464401bc50e4521df77e7da786b8b5e0e54',\n",
       "  'transactionIndex': 0},\n",
       " {'address': u'0x8d56c2d21fce354dd2a13c0a4de8fd72c96b9bdd',\n",
       "  'args': {u'_target': u'0xb48ce2b0f82c8e119dc6ec8a04a85d5d60dbf738',\n",
       "   u'_value': -200L},\n",
       "  'blockHash': u'0xa6ef698624f698664c5f1e6b627e3eb0e83b33e4ba40c089d8ff10eb3fce78d4',\n",
       "  'blockNumber': 25,\n",
       "  'event': u'energy_posted_event',\n",
       "  'logIndex': 0,\n",
       "  'transactionHash': u'0x771ac5b0e3a77ceaf32a6c906275f8418839f063ff1198a0a6601d8a4112cf85',\n",
       "  'transactionIndex': 0},\n",
       " {'address': u'0x8d56c2d21fce354dd2a13c0a4de8fd72c96b9bdd',\n",
       "  'args': {u'_target': u'0x56a150102f3cbf61dfbd27cf38c7e1b9f9ccda78',\n",
       "   u'_value': -25L},\n",
       "  'blockHash': u'0x6af1fb8709da4843bbfa856249bf156f2ab0adf95219d176f620a2cb60e6256f',\n",
       "  'blockNumber': 26,\n",
       "  'event': u'energy_posted_event',\n",
       "  'logIndex': 0,\n",
       "  'transactionHash': u'0xcaf5f204f79dbe6526edb8b14be58a47729f2aaa4446a0727d26881e0fb412a7',\n",
       "  'transactionIndex': 0},\n",
       " {'address': u'0x8d56c2d21fce354dd2a13c0a4de8fd72c96b9bdd',\n",
       "  'args': {u'_target': u'0xd7d87e3659821832a87779ea2fc37a14ca01467a',\n",
       "   u'_value': -50L},\n",
       "  'blockHash': u'0x012eb7ab29e6500b449f04724bbfb8234797b75c6d2a4de225494e58e773acd9',\n",
       "  'blockNumber': 27,\n",
       "  'event': u'energy_posted_event',\n",
       "  'logIndex': 0,\n",
       "  'transactionHash': u'0xeabf99ddc00c9f574facc8e7e0dc3f9cb53664c1a8e69550e70d0e183d24aecd',\n",
       "  'transactionIndex': 0}]"
      ]
     },
     "execution_count": 49,
     "metadata": {},
     "output_type": "execute_result"
    }
   ],
   "source": [
    "energy_posted_event.get(only_changes=False)"
   ]
  },
  {
   "cell_type": "code",
   "execution_count": 47,
   "metadata": {
    "collapsed": false
   },
   "outputs": [
    {
     "data": {
      "text/plain": [
       "[{'address': u'0x8d56c2d21fce354dd2a13c0a4de8fd72c96b9bdd',\n",
       "  'args': {u'_target': u'0x031667db452fc1a3decf0d0a45d1e4eeb572d47c',\n",
       "   u'_value': 5000},\n",
       "  'blockHash': u'0x99179e21b2ab825b8d25b0401937703f833ff1ac1aef2472cdaa4af01320f427',\n",
       "  'blockNumber': 28,\n",
       "  'event': u'bill_sent_event',\n",
       "  'logIndex': 1,\n",
       "  'transactionHash': u'0x9b6b8951c9b15a9166a10b45b24d5a1bf51820d1f79ad2ad616c02ea707b264b',\n",
       "  'transactionIndex': 0},\n",
       " {'address': u'0x8d56c2d21fce354dd2a13c0a4de8fd72c96b9bdd',\n",
       "  'args': {u'_target': u'0x584793145dc1e5daf0f587cbf436878587c8734c',\n",
       "   u'_value': 25000},\n",
       "  'blockHash': u'0x99179e21b2ab825b8d25b0401937703f833ff1ac1aef2472cdaa4af01320f427',\n",
       "  'blockNumber': 28,\n",
       "  'event': u'bill_sent_event',\n",
       "  'logIndex': 2,\n",
       "  'transactionHash': u'0x9b6b8951c9b15a9166a10b45b24d5a1bf51820d1f79ad2ad616c02ea707b264b',\n",
       "  'transactionIndex': 0},\n",
       " {'address': u'0x8d56c2d21fce354dd2a13c0a4de8fd72c96b9bdd',\n",
       "  'args': {u'_target': u'0x6d32c15322b56a4fae1e526aae0c8ac25fa2552d',\n",
       "   u'_value': 30000},\n",
       "  'blockHash': u'0x99179e21b2ab825b8d25b0401937703f833ff1ac1aef2472cdaa4af01320f427',\n",
       "  'blockNumber': 28,\n",
       "  'event': u'bill_sent_event',\n",
       "  'logIndex': 3,\n",
       "  'transactionHash': u'0x9b6b8951c9b15a9166a10b45b24d5a1bf51820d1f79ad2ad616c02ea707b264b',\n",
       "  'transactionIndex': 0},\n",
       " {'address': u'0x8d56c2d21fce354dd2a13c0a4de8fd72c96b9bdd',\n",
       "  'args': {u'_target': u'0x16d91d01bae66adda356187d8de25a35325ff312',\n",
       "   u'_value': 10000},\n",
       "  'blockHash': u'0x99179e21b2ab825b8d25b0401937703f833ff1ac1aef2472cdaa4af01320f427',\n",
       "  'blockNumber': 28,\n",
       "  'event': u'bill_sent_event',\n",
       "  'logIndex': 4,\n",
       "  'transactionHash': u'0x9b6b8951c9b15a9166a10b45b24d5a1bf51820d1f79ad2ad616c02ea707b264b',\n",
       "  'transactionIndex': 0},\n",
       " {'address': u'0x8d56c2d21fce354dd2a13c0a4de8fd72c96b9bdd',\n",
       "  'args': {u'_target': u'0x80d625119173af05841ee611a4b9f90c1b436eff',\n",
       "   u'_value': 15000},\n",
       "  'blockHash': u'0x99179e21b2ab825b8d25b0401937703f833ff1ac1aef2472cdaa4af01320f427',\n",
       "  'blockNumber': 28,\n",
       "  'event': u'bill_sent_event',\n",
       "  'logIndex': 5,\n",
       "  'transactionHash': u'0x9b6b8951c9b15a9166a10b45b24d5a1bf51820d1f79ad2ad616c02ea707b264b',\n",
       "  'transactionIndex': 0},\n",
       " {'address': u'0x8d56c2d21fce354dd2a13c0a4de8fd72c96b9bdd',\n",
       "  'args': {u'_target': u'0x9f3d6514b4840ae3e9fa7cbfa1fc38fa2482b225',\n",
       "   u'_value': -5000L},\n",
       "  'blockHash': u'0x99179e21b2ab825b8d25b0401937703f833ff1ac1aef2472cdaa4af01320f427',\n",
       "  'blockNumber': 28,\n",
       "  'event': u'bill_sent_event',\n",
       "  'logIndex': 6,\n",
       "  'transactionHash': u'0x9b6b8951c9b15a9166a10b45b24d5a1bf51820d1f79ad2ad616c02ea707b264b',\n",
       "  'transactionIndex': 0},\n",
       " {'address': u'0x8d56c2d21fce354dd2a13c0a4de8fd72c96b9bdd',\n",
       "  'args': {u'_target': u'0x28c6880fde1daff3b3000337ded17b5c1b78d048',\n",
       "   u'_value': -5000L},\n",
       "  'blockHash': u'0x99179e21b2ab825b8d25b0401937703f833ff1ac1aef2472cdaa4af01320f427',\n",
       "  'blockNumber': 28,\n",
       "  'event': u'bill_sent_event',\n",
       "  'logIndex': 7,\n",
       "  'transactionHash': u'0x9b6b8951c9b15a9166a10b45b24d5a1bf51820d1f79ad2ad616c02ea707b264b',\n",
       "  'transactionIndex': 0},\n",
       " {'address': u'0x8d56c2d21fce354dd2a13c0a4de8fd72c96b9bdd',\n",
       "  'args': {u'_target': u'0xb48ce2b0f82c8e119dc6ec8a04a85d5d60dbf738',\n",
       "   u'_value': -10000L},\n",
       "  'blockHash': u'0x99179e21b2ab825b8d25b0401937703f833ff1ac1aef2472cdaa4af01320f427',\n",
       "  'blockNumber': 28,\n",
       "  'event': u'bill_sent_event',\n",
       "  'logIndex': 8,\n",
       "  'transactionHash': u'0x9b6b8951c9b15a9166a10b45b24d5a1bf51820d1f79ad2ad616c02ea707b264b',\n",
       "  'transactionIndex': 0},\n",
       " {'address': u'0x8d56c2d21fce354dd2a13c0a4de8fd72c96b9bdd',\n",
       "  'args': {u'_target': u'0x56a150102f3cbf61dfbd27cf38c7e1b9f9ccda78',\n",
       "   u'_value': -1250L},\n",
       "  'blockHash': u'0x99179e21b2ab825b8d25b0401937703f833ff1ac1aef2472cdaa4af01320f427',\n",
       "  'blockNumber': 28,\n",
       "  'event': u'bill_sent_event',\n",
       "  'logIndex': 9,\n",
       "  'transactionHash': u'0x9b6b8951c9b15a9166a10b45b24d5a1bf51820d1f79ad2ad616c02ea707b264b',\n",
       "  'transactionIndex': 0},\n",
       " {'address': u'0x8d56c2d21fce354dd2a13c0a4de8fd72c96b9bdd',\n",
       "  'args': {u'_target': u'0xd7d87e3659821832a87779ea2fc37a14ca01467a',\n",
       "   u'_value': -2500L},\n",
       "  'blockHash': u'0x99179e21b2ab825b8d25b0401937703f833ff1ac1aef2472cdaa4af01320f427',\n",
       "  'blockNumber': 28,\n",
       "  'event': u'bill_sent_event',\n",
       "  'logIndex': 10,\n",
       "  'transactionHash': u'0x9b6b8951c9b15a9166a10b45b24d5a1bf51820d1f79ad2ad616c02ea707b264b',\n",
       "  'transactionIndex': 0}]"
      ]
     },
     "execution_count": 47,
     "metadata": {},
     "output_type": "execute_result"
    }
   ],
   "source": [
    "bill_sent_event.get(only_changes=False)"
   ]
  }
 ],
 "metadata": {
  "anaconda-cloud": {},
  "kernelspec": {
   "display_name": "Python [Root]",
   "language": "python",
   "name": "Python [Root]"
  },
  "language_info": {
   "codemirror_mode": {
    "name": "ipython",
    "version": 2
   },
   "file_extension": ".py",
   "mimetype": "text/x-python",
   "name": "python",
   "nbconvert_exporter": "python",
   "pygments_lexer": "ipython2",
   "version": "2.7.12"
  }
 },
 "nbformat": 4,
 "nbformat_minor": 0
}
