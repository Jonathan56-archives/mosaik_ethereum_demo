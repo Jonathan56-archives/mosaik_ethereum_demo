{
 "cells": [
  {
   "cell_type": "code",
   "execution_count": 56,
   "metadata": {
    "collapsed": false
   },
   "outputs": [],
   "source": [
    "import time\n",
    "from __future__ import division\n",
    "from web3 import Web3, HTTPProvider\n",
    "import json\n",
    "\n",
    "import pandas\n",
    "import numpy as np\n",
    "import matplotlib.pyplot as plt\n",
    "import seaborn\n",
    "seaborn.set_style(\"whitegrid\")\n",
    "seaborn.despine()\n",
    "%matplotlib inline\n",
    "%config InlineBackend.figure_formats = {'svg',}\n",
    "\n",
    "# Connect to the network\n",
    "web3 = Web3(HTTPProvider('http://localhost:8545'))\n",
    "\n",
    "# Get contract signature\n",
    "with open('../ethereum/build/contracts/Market.json') as energy_file:    \n",
    "    energy_json = json.load(energy_file)\n",
    "contract_abi = energy_json['abi']\n",
    "network_id = energy_json['networks'].keys()[-1]\n",
    "contract_address = energy_json['networks'][network_id]['address']\n",
    "\n",
    "# List accounts and set default account\n",
    "accounts = web3.eth.accounts\n",
    "web3.eth.defaultAccount = accounts[0]\n",
    "contract = web3.eth.contract(contract_abi, contract_address)\n",
    "energy_posted_event = contract.on('energy_posted_event', filter_params={'fromBlock': 'earliest'})\n",
    "market_cleared_event = contract.on('market_cleared_event', filter_params={'fromBlock': 'earliest'})\n",
    "bill_sent_event = contract.on('bill_sent_event', filter_params={'fromBlock': 'earliest'})"
   ]
  },
  {
   "cell_type": "code",
   "execution_count": 57,
   "metadata": {
    "collapsed": false
   },
   "outputs": [
    {
     "name": "stdout",
     "output_type": "stream",
     "text": [
      "Number of accounts 10\n",
      "Number of participants 10\n"
     ]
    }
   ],
   "source": [
    "print('Number of accounts ' + str(len(accounts)))\n",
    "\n",
    "# Add all participants\n",
    "for account in accounts:\n",
    "    trans_hash = contract.transact({'from': account, 'to': contract_address, 'gas': 900000}).add_participant()\n",
    "    \n",
    "# Check how many participants have been added\n",
    "print('Number of participants ' + str(contract.call().number_of_participant()))"
   ]
  },
  {
   "cell_type": "code",
   "execution_count": 58,
   "metadata": {
    "collapsed": false
   },
   "outputs": [
    {
     "name": "stdout",
     "output_type": "stream",
     "text": [
      "Total energy balance 1225 wh\n"
     ]
    },
    {
     "data": {
      "text/plain": [
       "u'0x1e045a221595b724da9898d0b400b66e7a29547e33c1de53f2c709c56acea618'"
      ]
     },
     "execution_count": 58,
     "metadata": {},
     "output_type": "execute_result"
    }
   ],
   "source": [
    "# Inputs\n",
    "energy_balances = [100, 500, 600, 200, 300, -100, -100, -200, -25, -50]\n",
    "print('Total energy balance ' + str(sum(energy_balances)) + ' wh')\n",
    "assert(len(accounts) == len(energy_balances))\n",
    "\n",
    "# Post consumption and production for each account\n",
    "for account, energy_balance in zip(accounts, energy_balances):\n",
    "    temp = {'from': account, 'to': contract_address, 'gas': 900000}\n",
    "    contract.transact(temp).post_energy_balance(int(energy_balance))\n",
    "\n",
    "# Clear the market\n",
    "contract.transact({'to': contract_address, 'gas': 900000}).clear_market()\n",
    "\n",
    "# Print results"
   ]
  },
  {
   "cell_type": "code",
   "execution_count": 59,
   "metadata": {
    "collapsed": false
   },
   "outputs": [
    {
     "data": {
      "text/plain": [
       "[{'address': u'0x87259acc4d5c068c56c708e3fbd7a3bd2369a23c',\n",
       "  'args': {u'_buy': 114,\n",
       "   u'_gen': 475,\n",
       "   u'_prod': 1700,\n",
       "   u'_sell': 150,\n",
       "   u'ratio': 357},\n",
       "  'blockHash': u'0x6b7933ebd71f20b0a22f4f9d4ed7364eadeb3c77fb7bd6afee79a5586bcff0e8',\n",
       "  'blockNumber': 28,\n",
       "  'event': u'market_cleared_event',\n",
       "  'logIndex': 0,\n",
       "  'transactionHash': u'0x1e045a221595b724da9898d0b400b66e7a29547e33c1de53f2c709c56acea618',\n",
       "  'transactionIndex': 0}]"
      ]
     },
     "execution_count": 59,
     "metadata": {},
     "output_type": "execute_result"
    }
   ],
   "source": [
    "market_cleared_event.get(only_changes=False)"
   ]
  },
  {
   "cell_type": "code",
   "execution_count": 60,
   "metadata": {
    "collapsed": false
   },
   "outputs": [
    {
     "data": {
      "text/plain": [
       "[{'address': u'0x87259acc4d5c068c56c708e3fbd7a3bd2369a23c',\n",
       "  'args': {u'_target': u'0x0d7c9010b492a0a265e37396ec1546ccb568af26',\n",
       "   u'_value': 100},\n",
       "  'blockHash': u'0x3836ea20b45335098cdb05b76be0cfca5cd51c76867bac96c2de49b79e481250',\n",
       "  'blockNumber': 18,\n",
       "  'event': u'energy_posted_event',\n",
       "  'logIndex': 0,\n",
       "  'transactionHash': u'0x3fe9030ed1eba894ca4267c7a4f339c08825738ad48cd892f470cb85af283d30',\n",
       "  'transactionIndex': 0},\n",
       " {'address': u'0x87259acc4d5c068c56c708e3fbd7a3bd2369a23c',\n",
       "  'args': {u'_target': u'0x4326c3abc7eadd989b7b3e73a5928676cf586e68',\n",
       "   u'_value': 500},\n",
       "  'blockHash': u'0x0dac4ceb4b952c1183d8c6f6e7b3f9ebdea6c35b0a7999d84a9050ac8dcbf0d0',\n",
       "  'blockNumber': 19,\n",
       "  'event': u'energy_posted_event',\n",
       "  'logIndex': 0,\n",
       "  'transactionHash': u'0xb5654d14e659c5d7cbdd91ab2750ff680734409d3a4da4a6c3294f8617e00de1',\n",
       "  'transactionIndex': 0},\n",
       " {'address': u'0x87259acc4d5c068c56c708e3fbd7a3bd2369a23c',\n",
       "  'args': {u'_target': u'0x319575916210ea91a26f9863058fb40068249bb3',\n",
       "   u'_value': 600},\n",
       "  'blockHash': u'0xe2d6a83c703fbc29de075e96a8b2dbe91f6dc60844ee4b3a9cda9c74f0387203',\n",
       "  'blockNumber': 20,\n",
       "  'event': u'energy_posted_event',\n",
       "  'logIndex': 0,\n",
       "  'transactionHash': u'0xac3bd7985cf76ffb6dc6d6753ed27be6dc27721e949418306267b94e3b3678f7',\n",
       "  'transactionIndex': 0},\n",
       " {'address': u'0x87259acc4d5c068c56c708e3fbd7a3bd2369a23c',\n",
       "  'args': {u'_target': u'0xcd5f000eb953f332eb4c5f02ef856609ded6c779',\n",
       "   u'_value': 200},\n",
       "  'blockHash': u'0x3925f876066ec62b6694962caf5de05a854c6b502bfda31e6ee92ac42605dd77',\n",
       "  'blockNumber': 21,\n",
       "  'event': u'energy_posted_event',\n",
       "  'logIndex': 0,\n",
       "  'transactionHash': u'0x3bf850a8a6c39b107ad8b209e166b381b3991c351d58dad34598e6a1cade0579',\n",
       "  'transactionIndex': 0},\n",
       " {'address': u'0x87259acc4d5c068c56c708e3fbd7a3bd2369a23c',\n",
       "  'args': {u'_target': u'0x1a7bd92eba558c0000cca15c54fe56fce038add0',\n",
       "   u'_value': 300},\n",
       "  'blockHash': u'0x13249b7e8614cc62ec9454d1ecaf18a746248ddc5d4c5f9a7df99682b82a7e63',\n",
       "  'blockNumber': 22,\n",
       "  'event': u'energy_posted_event',\n",
       "  'logIndex': 0,\n",
       "  'transactionHash': u'0xe94b88519b3fbc5ece4eddffe4e8b4b507100d4d7df91f158490165f97ee2654',\n",
       "  'transactionIndex': 0},\n",
       " {'address': u'0x87259acc4d5c068c56c708e3fbd7a3bd2369a23c',\n",
       "  'args': {u'_target': u'0xc59ed708e48b53a15ff6d0d252d7efb3c28284ff',\n",
       "   u'_value': -100L},\n",
       "  'blockHash': u'0xf73eaa1010088affea9259bbeb8744027a275f142ec168015706d3401e42b1b3',\n",
       "  'blockNumber': 23,\n",
       "  'event': u'energy_posted_event',\n",
       "  'logIndex': 0,\n",
       "  'transactionHash': u'0x0b98e09948ef7b36fee017a8e3ce40df4d005a6faa40e0a62ecadbb70adae7c1',\n",
       "  'transactionIndex': 0},\n",
       " {'address': u'0x87259acc4d5c068c56c708e3fbd7a3bd2369a23c',\n",
       "  'args': {u'_target': u'0x34d549c774d45a07bf200d785b104e7b3be5ec5f',\n",
       "   u'_value': -100L},\n",
       "  'blockHash': u'0xec706234ff7119e3e5b06847ad6a8b9b132c8e194b1e6f5eb84660db6800fa05',\n",
       "  'blockNumber': 24,\n",
       "  'event': u'energy_posted_event',\n",
       "  'logIndex': 0,\n",
       "  'transactionHash': u'0x0b98e09948ef7b36fee017a8e3ce40df4d005a6faa40e0a62ecadbb70adae7c1',\n",
       "  'transactionIndex': 0},\n",
       " {'address': u'0x87259acc4d5c068c56c708e3fbd7a3bd2369a23c',\n",
       "  'args': {u'_target': u'0xd08cc748bdd8e6b92b9e7995cb33ccd557f2be42',\n",
       "   u'_value': -200L},\n",
       "  'blockHash': u'0x7b1c108cffedc4f167ca81cbb504658bcf521df9e1f85a167ed815e5ae15e7e7',\n",
       "  'blockNumber': 25,\n",
       "  'event': u'energy_posted_event',\n",
       "  'logIndex': 0,\n",
       "  'transactionHash': u'0xaf224fafa4a2ff1fab2912b2b6024a32bdfd4185f9259086cc2f279d57c778a5',\n",
       "  'transactionIndex': 0},\n",
       " {'address': u'0x87259acc4d5c068c56c708e3fbd7a3bd2369a23c',\n",
       "  'args': {u'_target': u'0x0d1b5c90d7124ca58eef478db8576b6c299baaeb',\n",
       "   u'_value': -25L},\n",
       "  'blockHash': u'0x059d90b6203351ebab6a01fa61b96d1c5ec4b6574998a428cf56a8cd5f055a56',\n",
       "  'blockNumber': 26,\n",
       "  'event': u'energy_posted_event',\n",
       "  'logIndex': 0,\n",
       "  'transactionHash': u'0x6fb7915282f56a2b581b3f6006481a7cf25b7e197dc8e5636793978b733f5d37',\n",
       "  'transactionIndex': 0},\n",
       " {'address': u'0x87259acc4d5c068c56c708e3fbd7a3bd2369a23c',\n",
       "  'args': {u'_target': u'0x026c100a02b2cd1a854807568fa2b76aadd03766',\n",
       "   u'_value': -50L},\n",
       "  'blockHash': u'0x70d8bc600bf24ceb116eb12f7f4093264c31df5950636be4638a705f59ac9a6d',\n",
       "  'blockNumber': 27,\n",
       "  'event': u'energy_posted_event',\n",
       "  'logIndex': 0,\n",
       "  'transactionHash': u'0xd9b8654e1934ab903a888a6dfc61d00ff9ef4a43f839a099d86aa2951ad3bcbb',\n",
       "  'transactionIndex': 0}]"
      ]
     },
     "execution_count": 60,
     "metadata": {},
     "output_type": "execute_result"
    }
   ],
   "source": [
    "energy_posted_event.get(only_changes=False)"
   ]
  },
  {
   "cell_type": "code",
   "execution_count": 61,
   "metadata": {
    "collapsed": false
   },
   "outputs": [
    {
     "data": {
      "text/plain": [
       "[{'address': u'0x87259acc4d5c068c56c708e3fbd7a3bd2369a23c',\n",
       "  'args': {u'_target': u'0x0d7c9010b492a0a265e37396ec1546ccb568af26',\n",
       "   u'_value': 11400},\n",
       "  'blockHash': u'0x6b7933ebd71f20b0a22f4f9d4ed7364eadeb3c77fb7bd6afee79a5586bcff0e8',\n",
       "  'blockNumber': 28,\n",
       "  'event': u'bill_sent_event',\n",
       "  'logIndex': 1,\n",
       "  'transactionHash': u'0x1e045a221595b724da9898d0b400b66e7a29547e33c1de53f2c709c56acea618',\n",
       "  'transactionIndex': 0},\n",
       " {'address': u'0x87259acc4d5c068c56c708e3fbd7a3bd2369a23c',\n",
       "  'args': {u'_target': u'0x4326c3abc7eadd989b7b3e73a5928676cf586e68',\n",
       "   u'_value': 57000},\n",
       "  'blockHash': u'0x6b7933ebd71f20b0a22f4f9d4ed7364eadeb3c77fb7bd6afee79a5586bcff0e8',\n",
       "  'blockNumber': 28,\n",
       "  'event': u'bill_sent_event',\n",
       "  'logIndex': 2,\n",
       "  'transactionHash': u'0x1e045a221595b724da9898d0b400b66e7a29547e33c1de53f2c709c56acea618',\n",
       "  'transactionIndex': 0},\n",
       " {'address': u'0x87259acc4d5c068c56c708e3fbd7a3bd2369a23c',\n",
       "  'args': {u'_target': u'0x319575916210ea91a26f9863058fb40068249bb3',\n",
       "   u'_value': 68400},\n",
       "  'blockHash': u'0x6b7933ebd71f20b0a22f4f9d4ed7364eadeb3c77fb7bd6afee79a5586bcff0e8',\n",
       "  'blockNumber': 28,\n",
       "  'event': u'bill_sent_event',\n",
       "  'logIndex': 3,\n",
       "  'transactionHash': u'0x1e045a221595b724da9898d0b400b66e7a29547e33c1de53f2c709c56acea618',\n",
       "  'transactionIndex': 0},\n",
       " {'address': u'0x87259acc4d5c068c56c708e3fbd7a3bd2369a23c',\n",
       "  'args': {u'_target': u'0xcd5f000eb953f332eb4c5f02ef856609ded6c779',\n",
       "   u'_value': 22800},\n",
       "  'blockHash': u'0x6b7933ebd71f20b0a22f4f9d4ed7364eadeb3c77fb7bd6afee79a5586bcff0e8',\n",
       "  'blockNumber': 28,\n",
       "  'event': u'bill_sent_event',\n",
       "  'logIndex': 4,\n",
       "  'transactionHash': u'0x1e045a221595b724da9898d0b400b66e7a29547e33c1de53f2c709c56acea618',\n",
       "  'transactionIndex': 0},\n",
       " {'address': u'0x87259acc4d5c068c56c708e3fbd7a3bd2369a23c',\n",
       "  'args': {u'_target': u'0x1a7bd92eba558c0000cca15c54fe56fce038add0',\n",
       "   u'_value': 34200},\n",
       "  'blockHash': u'0x6b7933ebd71f20b0a22f4f9d4ed7364eadeb3c77fb7bd6afee79a5586bcff0e8',\n",
       "  'blockNumber': 28,\n",
       "  'event': u'bill_sent_event',\n",
       "  'logIndex': 5,\n",
       "  'transactionHash': u'0x1e045a221595b724da9898d0b400b66e7a29547e33c1de53f2c709c56acea618',\n",
       "  'transactionIndex': 0},\n",
       " {'address': u'0x87259acc4d5c068c56c708e3fbd7a3bd2369a23c',\n",
       "  'args': {u'_target': u'0xc59ed708e48b53a15ff6d0d252d7efb3c28284ff',\n",
       "   u'_value': -15000L},\n",
       "  'blockHash': u'0x6b7933ebd71f20b0a22f4f9d4ed7364eadeb3c77fb7bd6afee79a5586bcff0e8',\n",
       "  'blockNumber': 28,\n",
       "  'event': u'bill_sent_event',\n",
       "  'logIndex': 6,\n",
       "  'transactionHash': u'0x1e045a221595b724da9898d0b400b66e7a29547e33c1de53f2c709c56acea618',\n",
       "  'transactionIndex': 0},\n",
       " {'address': u'0x87259acc4d5c068c56c708e3fbd7a3bd2369a23c',\n",
       "  'args': {u'_target': u'0x34d549c774d45a07bf200d785b104e7b3be5ec5f',\n",
       "   u'_value': -15000L},\n",
       "  'blockHash': u'0x6b7933ebd71f20b0a22f4f9d4ed7364eadeb3c77fb7bd6afee79a5586bcff0e8',\n",
       "  'blockNumber': 28,\n",
       "  'event': u'bill_sent_event',\n",
       "  'logIndex': 7,\n",
       "  'transactionHash': u'0x1e045a221595b724da9898d0b400b66e7a29547e33c1de53f2c709c56acea618',\n",
       "  'transactionIndex': 0},\n",
       " {'address': u'0x87259acc4d5c068c56c708e3fbd7a3bd2369a23c',\n",
       "  'args': {u'_target': u'0xd08cc748bdd8e6b92b9e7995cb33ccd557f2be42',\n",
       "   u'_value': -30000L},\n",
       "  'blockHash': u'0x6b7933ebd71f20b0a22f4f9d4ed7364eadeb3c77fb7bd6afee79a5586bcff0e8',\n",
       "  'blockNumber': 28,\n",
       "  'event': u'bill_sent_event',\n",
       "  'logIndex': 8,\n",
       "  'transactionHash': u'0x1e045a221595b724da9898d0b400b66e7a29547e33c1de53f2c709c56acea618',\n",
       "  'transactionIndex': 0},\n",
       " {'address': u'0x87259acc4d5c068c56c708e3fbd7a3bd2369a23c',\n",
       "  'args': {u'_target': u'0x0d1b5c90d7124ca58eef478db8576b6c299baaeb',\n",
       "   u'_value': -3750L},\n",
       "  'blockHash': u'0x6b7933ebd71f20b0a22f4f9d4ed7364eadeb3c77fb7bd6afee79a5586bcff0e8',\n",
       "  'blockNumber': 28,\n",
       "  'event': u'bill_sent_event',\n",
       "  'logIndex': 9,\n",
       "  'transactionHash': u'0x1e045a221595b724da9898d0b400b66e7a29547e33c1de53f2c709c56acea618',\n",
       "  'transactionIndex': 0},\n",
       " {'address': u'0x87259acc4d5c068c56c708e3fbd7a3bd2369a23c',\n",
       "  'args': {u'_target': u'0x026c100a02b2cd1a854807568fa2b76aadd03766',\n",
       "   u'_value': -7500L},\n",
       "  'blockHash': u'0x6b7933ebd71f20b0a22f4f9d4ed7364eadeb3c77fb7bd6afee79a5586bcff0e8',\n",
       "  'blockNumber': 28,\n",
       "  'event': u'bill_sent_event',\n",
       "  'logIndex': 10,\n",
       "  'transactionHash': u'0x1e045a221595b724da9898d0b400b66e7a29547e33c1de53f2c709c56acea618',\n",
       "  'transactionIndex': 0}]"
      ]
     },
     "execution_count": 61,
     "metadata": {},
     "output_type": "execute_result"
    }
   ],
   "source": [
    "bill_sent_event.get(only_changes=False)"
   ]
  }
 ],
 "metadata": {
  "anaconda-cloud": {},
  "kernelspec": {
   "display_name": "Python [Root]",
   "language": "python",
   "name": "Python [Root]"
  },
  "language_info": {
   "codemirror_mode": {
    "name": "ipython",
    "version": 2
   },
   "file_extension": ".py",
   "mimetype": "text/x-python",
   "name": "python",
   "nbconvert_exporter": "python",
   "pygments_lexer": "ipython2",
   "version": "2.7.12"
  }
 },
 "nbformat": 4,
 "nbformat_minor": 0
}
